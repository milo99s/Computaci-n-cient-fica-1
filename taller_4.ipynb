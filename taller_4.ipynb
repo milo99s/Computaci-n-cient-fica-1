{
  "nbformat": 4,
  "nbformat_minor": 0,
  "metadata": {
    "colab": {
      "provenance": [],
      "authorship_tag": "ABX9TyPSV1gS7aCt4AsdiJz+WFj0",
      "include_colab_link": true
    },
    "kernelspec": {
      "name": "python3",
      "display_name": "Python 3"
    },
    "language_info": {
      "name": "python"
    }
  },
  "cells": [
    {
      "cell_type": "markdown",
      "metadata": {
        "id": "view-in-github",
        "colab_type": "text"
      },
      "source": [
        "<a href=\"https://colab.research.google.com/github/milo99s/Computaci-n-cient-fica-1/blob/main/taller_4.ipynb\" target=\"_parent\"><img src=\"https://colab.research.google.com/assets/colab-badge.svg\" alt=\"Open In Colab\"/></a>"
      ]
    },
    {
      "cell_type": "code",
      "execution_count": 1,
      "metadata": {
        "colab": {
          "base_uri": "https://localhost:8080/"
        },
        "id": "hESbnTba_AE6",
        "outputId": "c0811c2b-2796-450d-8f1c-1abb53dff1e4"
      },
      "outputs": [
        {
          "output_type": "stream",
          "name": "stdout",
          "text": [
            "Hola, mi nombre es Kimberly y tengo 18 años\n",
            "Kimberly es mayor de edad\n",
            "Kimberly ha crecido 5 cm. Ahora mide 1.75 m\n",
            "Faltan 82 días para el cumpleaños de Kimberly\n",
            "Kimberly 18 años 1.75 m\n",
            "\n",
            "Hola, mi nombre es Juan y tengo 17 años\n",
            "Juan es menor de edad\n",
            "Juan ha crecido 5 cm. Ahora mide 1.95 m\n",
            "Faltan 256 días para el cumpleaños de Juan\n",
            "Juan 17 años 1.95 m\n",
            "\n",
            "Hola, mi nombre es Sergio y tengo 18 años\n",
            "Sergio es mayor de edad\n",
            "Sergio ha crecido 5 cm. Ahora mide 1.74 m\n",
            "Faltan 217 días para el cumpleaños de Sergio\n",
            "Sergio 18 años 1.74 m\n",
            "\n",
            "Hola, mi nombre es Fredy y tengo 80 años\n",
            "Fredy es mayor de edad\n",
            "Fredy ha crecido 5 cm. Ahora mide 1.77 m\n",
            "Faltan 285 días para el cumpleaños de Fredy\n",
            "Fredy 80 años 1.77 m\n",
            "\n",
            "Hola, mi nombre es Yes y tengo 24 años\n",
            "Yes es mayor de edad\n",
            "Yes ha crecido 5 cm. Ahora mide 1.65 m\n",
            "Faltan 139 días para el cumpleaños de Yes\n",
            "Yes 24 años 1.65 m\n",
            "\n"
          ]
        }
      ],
      "source": [
        "import datetime\n",
        "\n",
        "class Fechas:\n",
        "    def __init__(self, nombre, fecha_nacimiento, altura):\n",
        "        self.nombre = nombre\n",
        "        self.fecha_nacimiento = datetime.datetime.strptime(fecha_nacimiento, \"%Y-%m-%d\").date()\n",
        "        self.altura = altura\n",
        "\n",
        "    def __float__(self):\n",
        "        return float(self.altura)\n",
        "\n",
        "    def edad(self):\n",
        "        hoy = datetime.date.today()\n",
        "        return hoy.year - self.fecha_nacimiento.year - ((hoy.month, hoy.day) < (self.fecha_nacimiento.month, self.fecha_nacimiento.day))\n",
        "\n",
        "    def edad_persona(self):\n",
        "        if self.edad() >= 18:\n",
        "            print(f\"{self.nombre} es mayor de edad\")\n",
        "        else:\n",
        "            print(f\"{self.nombre} es menor de edad\")\n",
        "\n",
        "    def crecer(self, cm):\n",
        "        if cm < 0 or cm > 50:\n",
        "            print(f\"Error: {self.nombre} no puede crecer {cm} cm. Debe ser entre 0 y 50 cm.\")\n",
        "        else:\n",
        "            metros = cm / 100\n",
        "            self.altura += metros\n",
        "            print(f\"{self.nombre} ha crecido {cm} cm. Ahora mide {self.altura:.2f} m\")\n",
        "\n",
        "    def cumple_hoy(self):\n",
        "        hoy = datetime.date.today()\n",
        "        return hoy.month == self.fecha_nacimiento.month and hoy.day == self.fecha_nacimiento.day\n",
        "\n",
        "    def dias_para_cumple(self):\n",
        "        hoy = datetime.date.today()\n",
        "        proximo = datetime.date(hoy.year, self.fecha_nacimiento.month, self.fecha_nacimiento.day)\n",
        "        if proximo < hoy:\n",
        "            proximo = datetime.date(hoy.year + 1, self.fecha_nacimiento.month, self.fecha_nacimiento.day)\n",
        "        return (proximo - hoy).days\n",
        "\n",
        "    def __str__(self):\n",
        "        return f\"{self.nombre} {self.edad()} años {self.altura:.2f} m\"\n",
        "\n",
        "\n",
        "s1 = Fechas(\"Kimberly\", \"2006-07-24\", 1.70)\n",
        "s2 = Fechas(\"Juan\", \"2008-01-14\", 1.90)\n",
        "s3 = Fechas(\"Sergio\", \"2006-12-06\", 1.69)\n",
        "s4 = Fechas(\"Fredy\", \"1945-02-12\", 1.72)\n",
        "s5 = Fechas(\"Yes\", \"2000-09-19\", 1.60)\n",
        "\n",
        "personas = [s1, s2, s3, s4, s5]\n",
        "\n",
        "\n",
        "for persona in personas:\n",
        "    print(f\"Hola, mi nombre es {persona.nombre} y tengo {persona.edad()} años\")\n",
        "    persona.edad_persona()\n",
        "    persona.crecer(5)\n",
        "\n",
        "    if persona.cumple_hoy():\n",
        "        print(f\"¡Hoy es el cumpleaños de {persona.nombre}!\")\n",
        "    else:\n",
        "        print(f\"Faltan {persona.dias_para_cumple()} días para el cumpleaños de {persona.nombre}\")\n",
        "\n",
        "    print(persona)\n",
        "    print()"
      ]
    }
  ]
}