{
  "nbformat": 4,
  "nbformat_minor": 0,
  "metadata": {
    "colab": {
      "provenance": [],
      "authorship_tag": "ABX9TyNX2zb6cQLbrbX5E/U57Ojv",
      "include_colab_link": true
    },
    "kernelspec": {
      "name": "python3",
      "display_name": "Python 3"
    },
    "language_info": {
      "name": "python"
    }
  },
  "cells": [
    {
      "cell_type": "markdown",
      "metadata": {
        "id": "view-in-github",
        "colab_type": "text"
      },
      "source": [
        "<a href=\"https://colab.research.google.com/github/milo99s/Computaci-n-cient-fica-1/blob/main/Taller_computacion_cientifica.ipynb\" target=\"_parent\"><img src=\"https://colab.research.google.com/assets/colab-badge.svg\" alt=\"Open In Colab\"/></a>"
      ]
    },
    {
      "cell_type": "markdown",
      "source": [
        "##PUNTO 1"
      ],
      "metadata": {
        "id": "MlGmIY8sSBhJ"
      }
    },
    {
      "cell_type": "code",
      "source": [
        "nombre = input(\"ingresa tu nombre \")\n",
        "print(f\" hola, {nombre}. Bienvenido/a a la programacion en phyton\")\n"
      ],
      "metadata": {
        "colab": {
          "base_uri": "https://localhost:8080/"
        },
        "id": "BerN9Yt1TLuR",
        "outputId": "66df0335-41b1-43e3-b75f-bb2976415185"
      },
      "execution_count": null,
      "outputs": [
        {
          "output_type": "stream",
          "name": "stdout",
          "text": [
            "ingresa tu nombre camilo\n",
            " hola, camilo. Bienvenido/a a la programacion en phyton\n"
          ]
        }
      ]
    },
    {
      "cell_type": "markdown",
      "source": [
        "##PUNTO 2"
      ],
      "metadata": {
        "id": "Hp33Zn_2WSL1"
      }
    },
    {
      "cell_type": "code",
      "source": [
        "n=int(input(\"ingrese un numero\"))\n",
        "\n",
        "if n %2==0:\n",
        "  print(\"el numero es par\")\n",
        "else:\n",
        "  print(\"el numero es impar\")"
      ],
      "metadata": {
        "colab": {
          "base_uri": "https://localhost:8080/"
        },
        "id": "dYJ2YIhWWZ4k",
        "outputId": "75ab4990-910a-4014-8012-1945ed01cb10"
      },
      "execution_count": null,
      "outputs": [
        {
          "output_type": "stream",
          "name": "stdout",
          "text": [
            "ingrese un numero4\n",
            "el numero es par\n"
          ]
        }
      ]
    },
    {
      "cell_type": "markdown",
      "source": [
        "##PUNTO 3"
      ],
      "metadata": {
        "id": "uTULpmfsXZs3"
      }
    },
    {
      "cell_type": "code",
      "source": [
        "palabra = input(\"Ingresa una palabra: \")\n",
        "vocales = \"aeiouAEIOU\"\n",
        "contador_vocales = 0\n",
        "\n",
        "for letra in palabra:\n",
        "  if letra in vocales:\n",
        "      contador_vocales += 1\n",
        "\n",
        "      print(f\"La palabra '{palabra}' tiene {contador_vocales} vocales.\")"
      ],
      "metadata": {
        "colab": {
          "base_uri": "https://localhost:8080/"
        },
        "id": "IYnOAsBSYYsk",
        "outputId": "a0e2f996-1962-4328-b4ab-7c724b8d66c9"
      },
      "execution_count": null,
      "outputs": [
        {
          "output_type": "stream",
          "name": "stdout",
          "text": [
            "Ingresa una palabra: sarah\n",
            "La palabra 'sarah' tiene 1 vocales.\n",
            "La palabra 'sarah' tiene 2 vocales.\n"
          ]
        }
      ]
    },
    {
      "cell_type": "markdown",
      "source": [
        "##PUNTO 4"
      ],
      "metadata": {
        "id": "ZHUeUdWXZwBa"
      }
    },
    {
      "cell_type": "code",
      "source": [
        "import random\n",
        "\n",
        "numero_secreto = random.randint(1, 10)\n",
        "intentos = 0\n",
        "\n",
        "print(\"Adivina el número secreto entre 1 y 10.\")\n",
        "\n",
        "while True:\n",
        "    try:\n",
        "        intento = int(input(\"Ingresa tu intento: \"))\n",
        "        intentos += 1\n",
        "\n",
        "        if intento < numero_secreto:\n",
        "            print(\"El número secreto es mayor.\")\n",
        "        elif intento > numero_secreto:\n",
        "            print(\"El número secreto es menor.\")\n",
        "        else:\n",
        "            print(f\"¡Felicidades! Adivinaste el número en {intentos} intentos.\")\n",
        "            break\n",
        "    except ValueError:\n",
        "        print(\"Ingresa un número válido.\")"
      ],
      "metadata": {
        "colab": {
          "base_uri": "https://localhost:8080/"
        },
        "id": "dnoMzdcdf5lS",
        "outputId": "092d5b11-e396-49c6-b6e7-37b66ff7bc9d"
      },
      "execution_count": null,
      "outputs": [
        {
          "output_type": "stream",
          "name": "stdout",
          "text": [
            "Adivina el número secreto entre 1 y 10.\n",
            "Ingresa tu intento: 9\n",
            "El número secreto es menor.\n",
            "Ingresa tu intento: 7\n",
            "El número secreto es menor.\n",
            "Ingresa tu intento: 5\n",
            "El número secreto es mayor.\n",
            "Ingresa tu intento: 6\n",
            "¡Felicidades! Adivinaste el número en 4 intentos.\n"
          ]
        }
      ]
    },
    {
      "cell_type": "markdown",
      "source": [
        "##PUNTO 5"
      ],
      "metadata": {
        "id": "iFfE-E-LgDXC"
      }
    },
    {
      "cell_type": "code",
      "source": [
        "numero = int(input(\"Ingresa un número: \"))\n",
        "\n",
        "print(f\"Tabla de multiplicar del {numero}:\")\n",
        "for i in range(1, 11):\n",
        "  print(f\"{numero} x {i} = {numero * i}\")"
      ],
      "metadata": {
        "colab": {
          "base_uri": "https://localhost:8080/"
        },
        "id": "bBzB0d8igw7g",
        "outputId": "3153b8bb-e2ae-47d7-d365-2a4024330a3a"
      },
      "execution_count": null,
      "outputs": [
        {
          "output_type": "stream",
          "name": "stdout",
          "text": [
            "Ingresa un número: 5\n",
            "Tabla de multiplicar del 5:\n",
            "5 x 1 = 5\n",
            "5 x 2 = 10\n",
            "5 x 3 = 15\n",
            "5 x 4 = 20\n",
            "5 x 5 = 25\n",
            "5 x 6 = 30\n",
            "5 x 7 = 35\n",
            "5 x 8 = 40\n",
            "5 x 9 = 45\n",
            "5 x 10 = 50\n"
          ]
        }
      ]
    },
    {
      "cell_type": "markdown",
      "source": [
        "##PUNTO 6"
      ],
      "metadata": {
        "id": "x-6ahsr9g-bf"
      }
    },
    {
      "cell_type": "code",
      "source": [
        "n = int(input(\"Ingrese un número entero positivo: \"))\n",
        "\n",
        "for i in range(n):\n",
        "    print(\" \" * (n - i - 1) + \"*\" * (2 * i + 1))\n"
      ],
      "metadata": {
        "colab": {
          "base_uri": "https://localhost:8080/"
        },
        "id": "AMvsJUM3M8kR",
        "outputId": "745ab64f-d88b-4ebd-decc-c8b2f6856b64"
      },
      "execution_count": null,
      "outputs": [
        {
          "output_type": "stream",
          "name": "stdout",
          "text": [
            "Ingrese un número entero positivo: 9\n",
            "        *\n",
            "       ***\n",
            "      *****\n",
            "     *******\n",
            "    *********\n",
            "   ***********\n",
            "  *************\n",
            " ***************\n",
            "*****************\n"
          ]
        }
      ]
    }
  ]
}