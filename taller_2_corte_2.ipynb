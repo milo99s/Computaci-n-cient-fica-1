{
  "nbformat": 4,
  "nbformat_minor": 0,
  "metadata": {
    "colab": {
      "provenance": [],
      "authorship_tag": "ABX9TyMBTOWzb3vMGyVCOICLJQNr",
      "include_colab_link": true
    },
    "kernelspec": {
      "name": "python3",
      "display_name": "Python 3"
    },
    "language_info": {
      "name": "python"
    }
  },
  "cells": [
    {
      "cell_type": "markdown",
      "metadata": {
        "id": "view-in-github",
        "colab_type": "text"
      },
      "source": [
        "<a href=\"https://colab.research.google.com/github/milo99s/Computaci-n-cient-fica-1/blob/main/taller_2_corte_2.ipynb\" target=\"_parent\"><img src=\"https://colab.research.google.com/assets/colab-badge.svg\" alt=\"Open In Colab\"/></a>"
      ]
    },
    {
      "cell_type": "markdown",
      "source": [
        "## SIMULAR COMPORTAMIENTO DE UNA DE UNA BARAJA DE NAIPES FRANCESA"
      ],
      "metadata": {
        "id": "-W9UsfhLqHry"
      }
    },
    {
      "cell_type": "code",
      "source": [
        "import random\n",
        "class carta_trebol:\n",
        "    def __init__ (self,numero,palo):\n",
        "        self.numero = numero\n",
        "        self.palo = palo\n",
        "    def __str__(self):\n",
        "        return f\"carta {self.numero} del palo {self.palo}\"\n",
        "b = []\n",
        "for i in range (1,14):\n",
        "    t = carta_trebol(i,\"trebol\")\n",
        "    b.append(t)\n",
        "for t in b:\n",
        "    print(t)\n",
        "class carta_diamante:\n",
        "    def __init__ (self,numero,palo):\n",
        "        self.numero = numero\n",
        "        self.palo = palo\n",
        "    def __str__(self):\n",
        "        return f\"carta {self.numero} del palo {self.palo}\"\n",
        "b = []\n",
        "for i in range (1,14):\n",
        "    t = carta_diamante(i,\"diamante\")\n",
        "    b.append(t)\n",
        "for t in b:\n",
        "    print(t)\n",
        "class carta_pica:\n",
        "    def __init__ (self,numero,palo):\n",
        "        self.numero = numero\n",
        "        self.palo = palo\n",
        "    def __str__(self):\n",
        "        return f\"carta {self.numero} del palo {self.palo}\"\n",
        "b = []\n",
        "for i in range (1,14):\n",
        "    t = carta_pica(i,\"pica\")\n",
        "    b.append(t)\n",
        "for t in b:\n",
        "    print(t)\n",
        "class carta_corazon:\n",
        "    def __init__ (self,numero,palo):\n",
        "        self.numero = numero\n",
        "        self.palo = palo\n",
        "    def __str__(self):\n",
        "        return f\"carta {self.numero} del palo {self.palo}\"\n",
        "b = []\n",
        "for i in range (1,14):\n",
        "    t = carta_corazon(i,\"corazon\")\n",
        "    b.append(t)\n",
        "for t in b:\n",
        "    print(t)\n",
        "palos = ['corazones', 'diamantes', 'tréboles', 'picas']\n",
        "valores = ['2', '3', '4', '5', '6', '7', '8', '9', '10', '11', '12', '13', '1']\n",
        "baraja = []\n",
        "for palo in palos:\n",
        "    for valor in valores:\n",
        "        baraja.append((valor, palo))\n",
        "\n",
        "random.shuffle(baraja)\n",
        "\n",
        "print(baraja)"
      ],
      "metadata": {
        "colab": {
          "base_uri": "https://localhost:8080/"
        },
        "id": "vmlPfDtvGKhK",
        "outputId": "04713fc1-a904-4ace-c91f-86d5bf2273c0"
      },
      "execution_count": 1,
      "outputs": [
        {
          "output_type": "stream",
          "name": "stdout",
          "text": [
            "carta 1 del palo trebol\n",
            "carta 2 del palo trebol\n",
            "carta 3 del palo trebol\n",
            "carta 4 del palo trebol\n",
            "carta 5 del palo trebol\n",
            "carta 6 del palo trebol\n",
            "carta 7 del palo trebol\n",
            "carta 8 del palo trebol\n",
            "carta 9 del palo trebol\n",
            "carta 10 del palo trebol\n",
            "carta 11 del palo trebol\n",
            "carta 12 del palo trebol\n",
            "carta 13 del palo trebol\n",
            "carta 1 del palo diamante\n",
            "carta 2 del palo diamante\n",
            "carta 3 del palo diamante\n",
            "carta 4 del palo diamante\n",
            "carta 5 del palo diamante\n",
            "carta 6 del palo diamante\n",
            "carta 7 del palo diamante\n",
            "carta 8 del palo diamante\n",
            "carta 9 del palo diamante\n",
            "carta 10 del palo diamante\n",
            "carta 11 del palo diamante\n",
            "carta 12 del palo diamante\n",
            "carta 13 del palo diamante\n",
            "carta 1 del palo pica\n",
            "carta 2 del palo pica\n",
            "carta 3 del palo pica\n",
            "carta 4 del palo pica\n",
            "carta 5 del palo pica\n",
            "carta 6 del palo pica\n",
            "carta 7 del palo pica\n",
            "carta 8 del palo pica\n",
            "carta 9 del palo pica\n",
            "carta 10 del palo pica\n",
            "carta 11 del palo pica\n",
            "carta 12 del palo pica\n",
            "carta 13 del palo pica\n",
            "carta 1 del palo corazon\n",
            "carta 2 del palo corazon\n",
            "carta 3 del palo corazon\n",
            "carta 4 del palo corazon\n",
            "carta 5 del palo corazon\n",
            "carta 6 del palo corazon\n",
            "carta 7 del palo corazon\n",
            "carta 8 del palo corazon\n",
            "carta 9 del palo corazon\n",
            "carta 10 del palo corazon\n",
            "carta 11 del palo corazon\n",
            "carta 12 del palo corazon\n",
            "carta 13 del palo corazon\n",
            "[('8', 'diamantes'), ('7', 'diamantes'), ('4', 'picas'), ('2', 'diamantes'), ('2', 'corazones'), ('4', 'diamantes'), ('6', 'picas'), ('13', 'tréboles'), ('12', 'tréboles'), ('13', 'corazones'), ('3', 'picas'), ('11', 'picas'), ('7', 'picas'), ('12', 'picas'), ('10', 'picas'), ('8', 'corazones'), ('5', 'picas'), ('1', 'tréboles'), ('9', 'picas'), ('10', 'tréboles'), ('1', 'picas'), ('13', 'diamantes'), ('11', 'corazones'), ('9', 'diamantes'), ('8', 'tréboles'), ('12', 'corazones'), ('9', 'tréboles'), ('10', 'corazones'), ('5', 'corazones'), ('1', 'corazones'), ('2', 'picas'), ('6', 'diamantes'), ('6', 'corazones'), ('8', 'picas'), ('4', 'tréboles'), ('7', 'tréboles'), ('7', 'corazones'), ('5', 'tréboles'), ('9', 'corazones'), ('5', 'diamantes'), ('3', 'tréboles'), ('1', 'diamantes'), ('6', 'tréboles'), ('12', 'diamantes'), ('11', 'tréboles'), ('2', 'tréboles'), ('4', 'corazones'), ('3', 'diamantes'), ('13', 'picas'), ('10', 'diamantes'), ('3', 'corazones'), ('11', 'diamantes')]\n"
          ]
        }
      ]
    }
  ]
}