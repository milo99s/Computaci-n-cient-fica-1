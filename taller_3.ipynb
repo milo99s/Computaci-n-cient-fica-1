{
  "nbformat": 4,
  "nbformat_minor": 0,
  "metadata": {
    "colab": {
      "provenance": [],
      "authorship_tag": "ABX9TyOvZVXfT4xHDawMstHTAsZ4",
      "include_colab_link": true
    },
    "kernelspec": {
      "name": "python3",
      "display_name": "Python 3"
    },
    "language_info": {
      "name": "python"
    }
  },
  "cells": [
    {
      "cell_type": "markdown",
      "metadata": {
        "id": "view-in-github",
        "colab_type": "text"
      },
      "source": [
        "<a href=\"https://colab.research.google.com/github/milo99s/Computaci-n-cient-fica-1/blob/main/taller_3.ipynb\" target=\"_parent\"><img src=\"https://colab.research.google.com/assets/colab-badge.svg\" alt=\"Open In Colab\"/></a>"
      ]
    },
    {
      "cell_type": "code",
      "execution_count": 8,
      "metadata": {
        "id": "g1tEYnHw9HtR"
      },
      "outputs": [],
      "source": [
        "class productos:\n",
        "\n",
        "  def __init__(self, nombre, precio, categoria):\n",
        "    self.nombre = nombre\n",
        "    self.precio = precio\n",
        "    self.categoria = categoria\n",
        "\n",
        "  def __str__(self):\n",
        "    return f\"{self.nombre} - {self.precio} - {self.categoria}\"\n",
        "\n",
        "  def __repr__(self):\n",
        "    return f\"{self.nombre} - {self.precio} - {self.categoria}\"\n",
        "\n",
        "  def __eq__(self, other):\n",
        "    if self.nombre == other.nombre:\n",
        "            if self.categoria == other.categoria:\n",
        "                return True\n",
        "            else:\n",
        "                return False\n",
        "\n",
        "  def __lt__(self, other):\n",
        "    if self.precio < other.precio:\n",
        "      return True\n",
        "    else:\n",
        "      return False\n",
        "\n",
        "  def __gt__(self, other):\n",
        "    if self.precio > other.precio:\n",
        "      return True\n",
        "    else:\n",
        "      return False\n",
        "\n",
        "\n",
        "\n",
        "bebidas = \"bebidas\"\n",
        "comidas = \"comidas\"\n",
        "paquetes = \"paquetes\"\n",
        "\n",
        "s1 = productos(\"coca-cola\", 3500, bebidas)\n",
        "s2 = productos(\"fanta\", 2500, bebidas)\n",
        "s3 = productos(\"sprite\", 3000, bebidas)\n",
        "s4 = productos(\"empanada\", 2500, comidas)\n",
        "s5 = productos(\"sandwich\", 2500, comidas)\n",
        "s6 = productos(\"pastel de pollo\", 3500, comidas)\n",
        "s7 = productos(\"detodito\", 3500, paquetes)\n",
        "s8 = productos(\"papa de pollo\", 2800, paquetes)\n",
        "s9 = productos(\"tostacos\", 1800, paquetes)\n",
        "s10 = productos(\"pastel de pollo\", 8000, comidas)\n"
      ]
    },
    {
      "cell_type": "code",
      "source": [
        "print(s1 == s2)\n",
        "print(s3 < s4)\n",
        "print(s5 > s6)\n",
        "\n",
        "\n"
      ],
      "metadata": {
        "colab": {
          "base_uri": "https://localhost:8080/"
        },
        "id": "sO_5cGIzGBOf",
        "outputId": "7a2fb7f6-ebe5-4425-91ca-87c7a0ea35e3"
      },
      "execution_count": 9,
      "outputs": [
        {
          "output_type": "stream",
          "name": "stdout",
          "text": [
            "None\n",
            "False\n",
            "False\n"
          ]
        }
      ]
    },
    {
      "cell_type": "code",
      "source": [
        " lista_productos = []\n",
        " class Tienda:\n",
        "  def __init__(self, tienda, lista_productos):\n",
        "    self.tienda = tienda\n",
        "    self.lista_productos = lista_productos\n",
        "\n",
        "  def __str__(self):\n",
        "    return f\"{self.tienda} - {self.lista_productos}\"\n",
        "\n",
        "  def __repr__(self):\n",
        "    return f\"{self.tienda} - {self.lista_productos}\"\n",
        "\n",
        "  def agregar_producto(self, producto):\n",
        "    self.lista_productos.append(producto)\n",
        "    return self.lista_productos\n",
        "\n",
        "  def eliminar_producto(self, nombre):\n",
        "    for producto in self.lista_productos:\n",
        "      if producto.nombre == nombre:\n",
        "        self.lista_productos.remove(producto)\n",
        "        return self.lista_productos\n",
        "    return None\n",
        "\n",
        "  def buscar_producto(self, nombre):\n",
        "    for producto in self.lista_productos:\n",
        "      if producto.nombre == nombre:\n",
        "        return producto\n",
        "    return None\n",
        "\n",
        "  def producto_mas_caro(self):\n",
        "    producto_mas_caro = self.lista_productos[0]\n",
        "    for producto in self.lista_productos:\n",
        "      if producto > producto_mas_caro:\n",
        "        producto_mas_caro = producto\n",
        "    return producto_mas_caro\n",
        "\n",
        "  def producto_mas_barato(self):\n",
        "    producto_mas_barato = self.lista_productos[0]\n",
        "\n",
        "\n",
        "  def mostrar_productos_por_categoria(self, categoria):\n",
        "    for producto in self.lista_productos:\n",
        "      if producto.categoria == categoria:\n",
        "        print(producto)\n",
        "\n",
        "  def mostrar_productos_por_precio(self, precio):\n",
        "    for producto in self.lista_productos:\n",
        "      if producto.precio == precio:\n",
        "        print(producto)\n",
        "\n",
        "sofia = Tienda(\"pepe\", lista_productos)\n",
        "sofia.agregar_producto(s1)\n",
        "sofia.agregar_producto(s4)\n",
        "sofia.agregar_producto(s7)\n",
        "camilo = Tienda(\"jua\", lista_productos)\n",
        "camilo.agregar_producto(s2)\n",
        "camilo.agregar_producto(s5)\n",
        "camilo.agregar_producto(s8)"
      ],
      "metadata": {
        "colab": {
          "base_uri": "https://localhost:8080/"
        },
        "id": "Xoa1O1HlJ91R",
        "outputId": "a5502f3b-e841-4274-d8fe-59995e6d096b"
      },
      "execution_count": 10,
      "outputs": [
        {
          "output_type": "execute_result",
          "data": {
            "text/plain": [
              "[coca-cola - 3500 - bebidas,\n",
              " empanada - 2500 - comidas,\n",
              " detodito - 3500 - paquetes,\n",
              " fanta - 2500 - bebidas,\n",
              " sandwich - 2500 - comidas,\n",
              " papa de pollo - 2800 - paquetes]"
            ]
          },
          "metadata": {},
          "execution_count": 10
        }
      ]
    },
    {
      "cell_type": "code",
      "source": [
        "print(sofia.buscar_producto(\"pastel de pollo\"))\n",
        "print(camilo.buscar_producto(\"pastel de pollo\"))\n",
        "print(sofia.producto_mas_caro())\n",
        "print(camilo.producto_mas_caro())\n",
        "print(sofia.producto_mas_barato())\n",
        "print(camilo.producto_mas_barato())\n",
        "sofia.mostrar_productos_por_categoria(\"comidas\")\n",
        "camilo.mostrar_productos_por_categoria(\"comidas\")\n",
        "sofia.mostrar_productos_por_precio(2500)\n",
        "camilo.mostrar_productos_por_precio(2500)\n"
      ],
      "metadata": {
        "colab": {
          "base_uri": "https://localhost:8080/"
        },
        "id": "Dgh9meKLQBlq",
        "outputId": "12a4133c-660f-4e0e-daa0-f5256d735292"
      },
      "execution_count": 11,
      "outputs": [
        {
          "output_type": "stream",
          "name": "stdout",
          "text": [
            "None\n",
            "None\n",
            "coca-cola - 3500 - bebidas\n",
            "coca-cola - 3500 - bebidas\n",
            "None\n",
            "None\n",
            "empanada - 2500 - comidas\n",
            "sandwich - 2500 - comidas\n",
            "empanada - 2500 - comidas\n",
            "sandwich - 2500 - comidas\n",
            "empanada - 2500 - comidas\n",
            "fanta - 2500 - bebidas\n",
            "sandwich - 2500 - comidas\n",
            "empanada - 2500 - comidas\n",
            "fanta - 2500 - bebidas\n",
            "sandwich - 2500 - comidas\n"
          ]
        }
      ]
    }
  ]
}